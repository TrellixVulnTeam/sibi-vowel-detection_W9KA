{
 "cells": [
  {
   "cell_type": "code",
   "execution_count": 1,
   "metadata": {},
   "outputs": [],
   "source": [
    "import cv2 \n",
    "import uuid\n",
    "import os\n",
    "import time"
   ]
  },
  {
   "cell_type": "code",
   "execution_count": 2,
   "metadata": {},
   "outputs": [],
   "source": [
    "IMAGES_PATH = 'images/collectedimages'"
   ]
  },
  {
   "cell_type": "code",
   "execution_count": 98,
   "metadata": {},
   "outputs": [],
   "source": [
    "labels = ['O']\n",
    "number_imgs = 100"
   ]
  },
  {
   "cell_type": "code",
   "execution_count": 105,
   "metadata": {},
   "outputs": [
    {
     "name": "stderr",
     "output_type": "stream",
     "text": [
      "A subdirectory or file images\\collectedimages\\O already exists.\n"
     ]
    },
    {
     "name": "stdout",
     "output_type": "stream",
     "text": [
      "Collecting images for O\n",
      "Collecting image 0\n",
      "Collecting image 1\n",
      "Collecting image 2\n",
      "Collecting image 3\n",
      "Collecting image 4\n",
      "Collecting image 5\n",
      "Collecting image 6\n",
      "Collecting image 7\n",
      "Collecting image 8\n",
      "Collecting image 9\n",
      "Collecting image 10\n",
      "Collecting image 11\n",
      "Collecting image 12\n",
      "Collecting image 13\n",
      "Collecting image 14\n",
      "Collecting image 15\n",
      "Collecting image 16\n",
      "Collecting image 17\n",
      "Collecting image 18\n",
      "Collecting image 19\n",
      "Collecting image 20\n",
      "Collecting image 21\n",
      "Collecting image 22\n",
      "Collecting image 23\n",
      "Collecting image 24\n",
      "Collecting image 25\n",
      "Collecting image 26\n",
      "Collecting image 27\n",
      "Collecting image 28\n",
      "Collecting image 29\n",
      "Collecting image 30\n",
      "Collecting image 31\n",
      "Collecting image 32\n",
      "Collecting image 33\n",
      "Collecting image 34\n",
      "Collecting image 35\n",
      "Collecting image 36\n",
      "Collecting image 37\n",
      "Collecting image 38\n",
      "Collecting image 39\n",
      "Collecting image 40\n",
      "Collecting image 41\n",
      "Collecting image 42\n",
      "Collecting image 43\n",
      "Collecting image 44\n",
      "Collecting image 45\n",
      "Collecting image 46\n",
      "Collecting image 47\n",
      "Collecting image 48\n",
      "Collecting image 49\n",
      "Collecting image 50\n",
      "Collecting image 51\n",
      "Collecting image 52\n",
      "Collecting image 53\n",
      "Collecting image 54\n",
      "Collecting image 55\n",
      "Collecting image 56\n",
      "Collecting image 57\n",
      "Collecting image 58\n",
      "Collecting image 59\n",
      "Collecting image 60\n",
      "Collecting image 61\n",
      "Collecting image 62\n",
      "Collecting image 63\n",
      "Collecting image 64\n",
      "Collecting image 65\n",
      "Collecting image 66\n",
      "Collecting image 67\n",
      "Collecting image 68\n",
      "Collecting image 69\n",
      "Collecting image 70\n",
      "Collecting image 71\n",
      "Collecting image 72\n",
      "Collecting image 73\n",
      "Collecting image 74\n",
      "Collecting image 75\n",
      "Collecting image 76\n",
      "Collecting image 77\n",
      "Collecting image 78\n",
      "Collecting image 79\n",
      "Collecting image 80\n",
      "Collecting image 81\n",
      "Collecting image 82\n",
      "Collecting image 83\n",
      "Collecting image 84\n",
      "Collecting image 85\n",
      "Collecting image 86\n",
      "Collecting image 87\n",
      "Collecting image 88\n",
      "Collecting image 89\n",
      "Collecting image 90\n",
      "Collecting image 91\n",
      "Collecting image 92\n",
      "Collecting image 93\n",
      "Collecting image 94\n",
      "Collecting image 95\n",
      "Collecting image 96\n",
      "Collecting image 97\n",
      "Collecting image 98\n",
      "Collecting image 99\n"
     ]
    }
   ],
   "source": [
    "for label in labels:\n",
    "    !mkdir {'images\\collectedimages\\\\'+label}\n",
    "    cap = cv2.VideoCapture(0)\n",
    "    print('Collecting images for {}'.format(label))\n",
    "    time.sleep(6)\n",
    "    for imgnum in range(100): \n",
    "        print('Collecting image {}'.format(imgnum))\n",
    "        ret, frame = cap.read()\n",
    "        imgname = os.path.join(IMAGES_PATH,label,label+'.'+'{}.jpg'.format(str(uuid.uuid1())))\n",
    "        cv2.imwrite(imgname, frame)\n",
    "        cv2.imshow('frame', frame)\n",
    "        time.sleep(3)\n",
    "\n",
    "        if cv2.waitKey(25) & 0xFF == ord('q'):\n",
    "            break\n",
    "    cap.release()"
   ]
  },
  {
   "cell_type": "code",
   "execution_count": 106,
   "metadata": {},
   "outputs": [],
   "source": [
    "cap.release()"
   ]
  },
  {
   "cell_type": "code",
   "execution_count": 107,
   "metadata": {},
   "outputs": [],
   "source": [
    "cv2.destroyAllWindows()"
   ]
  },
  {
   "cell_type": "code",
   "execution_count": null,
   "metadata": {},
   "outputs": [],
   "source": []
  }
 ],
 "metadata": {
  "kernelspec": {
   "display_name": "Python 3",
   "language": "python",
   "name": "python3"
  },
  "language_info": {
   "codemirror_mode": {
    "name": "ipython",
    "version": 3
   },
   "file_extension": ".py",
   "mimetype": "text/x-python",
   "name": "python",
   "nbconvert_exporter": "python",
   "pygments_lexer": "ipython3",
   "version": "3.7.3"
  }
 },
 "nbformat": 4,
 "nbformat_minor": 2
}
